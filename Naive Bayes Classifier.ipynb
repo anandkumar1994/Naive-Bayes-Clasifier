{
 "cells": [
  {
   "cell_type": "markdown",
   "metadata": {},
   "source": [
    "# Text Mining – Assignment 2"
   ]
  },
  {
   "cell_type": "code",
   "execution_count": 1,
   "metadata": {},
   "outputs": [],
   "source": [
    "Name = \"Anand Kumar Shanmugam\"\n",
    "\n",
    "Number = \"87621\"\n",
    "\n",
    "email = \"shanmu01@gw.uni-passau.de\""
   ]
  },
  {
   "cell_type": "code",
   "execution_count": 2,
   "metadata": {},
   "outputs": [],
   "source": [
    "from collections import OrderedDict\n",
    "import warnings\n",
    "warnings.filterwarnings(\"ignore\")"
   ]
  },
  {
   "cell_type": "code",
   "execution_count": 3,
   "metadata": {},
   "outputs": [],
   "source": [
    "try:\n",
    "    import sklearn\n",
    "except ModuleNotFoundError:\n",
    "    !pip install scikit-learn   \n",
    "\n",
    "try:\n",
    "    import nltk\n",
    "except ModuleNotFoundError:\n",
    "    !pip install nltk\n",
    "\n",
    "try:\n",
    "    import numpy as np\n",
    "except ModuleNotFoundError:\n",
    "    !pip install numpy"
   ]
  },
  {
   "cell_type": "code",
   "execution_count": 4,
   "metadata": {},
   "outputs": [
    {
     "name": "stdout",
     "output_type": "stream",
     "text": [
      "[nltk_data] Downloading package stopwords to C:\\Users\\Ram\n",
      "[nltk_data]     Prasanth\\AppData\\Roaming\\nltk_data...\n",
      "[nltk_data]   Unzipping corpora\\stopwords.zip.\n",
      "[nltk_data] Downloading package wordnet to C:\\Users\\Ram\n",
      "[nltk_data]     Prasanth\\AppData\\Roaming\\nltk_data...\n",
      "[nltk_data]   Unzipping corpora\\wordnet.zip.\n",
      "[nltk_data] Downloading package reuters to C:\\Users\\Ram\n",
      "[nltk_data]     Prasanth\\AppData\\Roaming\\nltk_data...\n",
      "[nltk_data] Downloading package punkt to C:\\Users\\Ram\n",
      "[nltk_data]     Prasanth\\AppData\\Roaming\\nltk_data...\n",
      "[nltk_data]   Unzipping tokenizers\\punkt.zip.\n"
     ]
    }
   ],
   "source": [
    "\n",
    "nltk_packages = [\n",
    "    (\"stopwords\",\"corpora/stopwords\"),\n",
    "    (\"wordnet\",\"corpora/wordnet\"),\n",
    "    (\"reuters\", \"corpora/reuters.zip\"),\n",
    "    (\"punkt\", \"tokenizers/punkt\"),\n",
    "]\n",
    "\n",
    "for pid, fid in nltk_packages:\n",
    "    try:\n",
    "        nltk.data.find(fid)\n",
    "    except LookupError:\n",
    "        nltk.download(pid)"
   ]
  },
  {
   "cell_type": "markdown",
   "metadata": {},
   "source": [
    "## Setting up corpus"
   ]
  },
  {
   "cell_type": "code",
   "execution_count": 5,
   "metadata": {},
   "outputs": [],
   "source": [
    "from nltk.corpus import reuters"
   ]
  },
  {
   "cell_type": "markdown",
   "metadata": {},
   "source": [
    "## Setting up train/test data"
   ]
  },
  {
   "cell_type": "code",
   "execution_count": 6,
   "metadata": {},
   "outputs": [],
   "source": [
    "train_documents, train_categories = zip(*[(reuters.raw(i), reuters.categories(i)) for i in reuters.fileids() if i.startswith('training/')])\n",
    "test_documents, test_categories = zip(*[(reuters.raw(i), reuters.categories(i)) for i in reuters.fileids() if i.startswith('test/')])"
   ]
  },
  {
   "cell_type": "code",
   "execution_count": 7,
   "metadata": {},
   "outputs": [],
   "source": [
    "all_categories = sorted(list(set(reuters.categories())))"
   ]
  },
  {
   "cell_type": "markdown",
   "metadata": {},
   "source": [
    "## Feature Engineering"
   ]
  },
  {
   "cell_type": "markdown",
   "metadata": {},
   "source": [
    "### Preprocessing"
   ]
  },
  {
   "cell_type": "code",
   "execution_count": 10,
   "metadata": {},
   "outputs": [
    {
     "name": "stdout",
     "output_type": "stream",
     "text": [
      "7769\n"
     ]
    }
   ],
   "source": [
    "train_tokens = [nltk.word_tokenize(text) for text in train_documents]\n",
    "test_tokens = [nltk.word_tokenize(text) for text in test_documents]\n",
    "\n",
    "#Removing Numbers, Special Characters excluding Alphabets\n",
    "import re\n",
    "train_tokens = [[w for w in tokens if re.match(\"[a-zA-Z]+\",w)] for tokens in train_tokens] \n",
    "test_tokens = [[w for w in tokens if re.match(\"[a-zA-Z]+\",w)] for tokens in test_tokens]\n",
    "\n",
    "#Stemming Eg:OPERATE => OPER\n",
    "from nltk.stem.porter import PorterStemmer\n",
    "stemmer = PorterStemmer()\n",
    "train_tokens = [[stemmer.stem(w) for w in tokens if len(stemmer.stem(w))>2] for tokens in train_tokens] \n",
    "test_tokens = [[stemmer.stem(w) for w in tokens if len(stemmer.stem(w))>2] for tokens in test_tokens]\n",
    "\n",
    "#Removing Stopwords\n",
    "from nltk.corpus import stopwords\n",
    "stop_words=stopwords.words('english')\n",
    "\n",
    "train_tokens = [[w for w in tokens if w not in stop_words] for tokens in train_tokens] \n",
    "test_tokens = [[w for w in tokens if w not in stop_words] for tokens in test_tokens]\n",
    "print(len(train_tokens))"
   ]
  },
  {
   "cell_type": "code",
   "execution_count": 11,
   "metadata": {},
   "outputs": [],
   "source": [
    "freq = nltk.FreqDist(token for tokens in train_tokens for token in tokens)"
   ]
  },
  {
   "cell_type": "code",
   "execution_count": 12,
   "metadata": {},
   "outputs": [
    {
     "name": "stdout",
     "output_type": "stream",
     "text": [
      "100\n"
     ]
    }
   ],
   "source": [
    "word_features = [w for w, _ in freq.most_common(100)]\n",
    "print(len(word_features))"
   ]
  },
  {
   "cell_type": "markdown",
   "metadata": {},
   "source": [
    "### Feature Extraction"
   ]
  },
  {
   "cell_type": "code",
   "execution_count": 13,
   "metadata": {},
   "outputs": [],
   "source": [
    "X_train = [[1 if w in tokens else 0 for w in word_features] for tokens in train_tokens]\n",
    "X_test  = [[1 if w in tokens else 0 for w in word_features] for tokens in test_tokens]"
   ]
  },
  {
   "cell_type": "markdown",
   "metadata": {},
   "source": [
    "### Multi Label Binarizing"
   ]
  },
  {
   "cell_type": "code",
   "execution_count": 14,
   "metadata": {},
   "outputs": [
    {
     "name": "stdout",
     "output_type": "stream",
     "text": [
      "These are the all categories from the MultiLabelBinarizer:\n",
      "acq, alum, barley, bop, carcass, castor-oil, cocoa, coconut, coconut-oil, coffee, copper, copra-cake, corn, cotton, cotton-oil, cpi, cpu, crude, dfl, dlr, dmk, earn, fuel, gas, gnp, gold, grain, groundnut, groundnut-oil, heat, hog, housing, income, instal-debt, interest, ipi, iron-steel, jet, jobs, l-cattle, lead, lei, lin-oil, livestock, lumber, meal-feed, money-fx, money-supply, naphtha, nat-gas, nickel, nkr, nzdlr, oat, oilseed, orange, palladium, palm-oil, palmkernel, pet-chem, platinum, potato, propane, rand, rape-oil, rapeseed, reserves, retail, rice, rubber, rye, ship, silver, sorghum, soy-meal, soy-oil, soybean, strategic-metal, sugar, sun-meal, sun-oil, sunseed, tea, tin, trade, veg-oil, wheat, wpi, yen, zinc\n",
      "\n",
      "Categories: ['acq', 'trade']\n",
      "Vector: [1 0 0 0 0 0 0 0 0 0 0 0 0 0 0 0 0 0 0 0 0 0 0 0 0 0 0 0 0 0 0 0 0 0 0 0 0\n",
      " 0 0 0 0 0 0 0 0 0 0 0 0 0 0 0 0 0 0 0 0 0 0 0 0 0 0 0 0 0 0 0 0 0 0 0 0 0\n",
      " 0 0 0 0 0 0 0 0 0 0 1 0 0 0 0 0]\n",
      "\n",
      "The 0th entry represents the label 'acq'\n"
     ]
    }
   ],
   "source": [
    "from sklearn.preprocessing import MultiLabelBinarizer\n",
    "\n",
    "\n",
    "mlb = MultiLabelBinarizer()\n",
    "mlb.fit(train_categories + test_categories)\n",
    "\n",
    "print(\"These are the all categories from the MultiLabelBinarizer:\\n{}\".format(\", \".join(mlb.classes_)))\n",
    "\n",
    "# Example:\n",
    "example = mlb.transform([train_categories[6]])[0]\n",
    "print(\"\\nCategories: {}\\nVector: {}\".format(train_categories[6], example))\n",
    "print(\"\\nThe 0th entry represents the label '{}'\".format(mlb.classes_[0]))\n",
    "\n",
    "\n",
    "y_train = mlb.transform(train_categories)\n",
    "y_test  = mlb.transform(test_categories)"
   ]
  },
  {
   "cell_type": "markdown",
   "metadata": {},
   "source": [
    "### Classifier Training"
   ]
  },
  {
   "cell_type": "code",
   "execution_count": 15,
   "metadata": {},
   "outputs": [],
   "source": [
    "from sklearn.svm import SVC, LinearSVC"
   ]
  },
  {
   "cell_type": "code",
   "execution_count": 16,
   "metadata": {},
   "outputs": [],
   "source": [
    "clfs = OrderedDict()\n",
    "\n",
    "for i, category in enumerate(all_categories):\n",
    "    clf = LinearSVC()\n",
    "    \n",
    "    # We train each classifier individually, so we must use\n",
    "    # only 0 or 1 as y_train.\n",
    "    y_train_clf = [yt[i] for yt in y_train]\n",
    "    \n",
    "    # .fit() will train the model with the training data\n",
    "    clf.fit(X_train, y_train_clf)\n",
    "    \n",
    "    clfs[category] = clf"
   ]
  },
  {
   "cell_type": "markdown",
   "metadata": {},
   "source": [
    "### Classifier Evaluation"
   ]
  },
  {
   "cell_type": "code",
   "execution_count": 17,
   "metadata": {},
   "outputs": [],
   "source": [
    "y_pred = np.zeros((len(y_test), len(all_categories)))\n",
    "\n",
    "for i, (cat, clf) in enumerate(clfs.items()):\n",
    "    y_pred[:, i] = clf.predict(X_test)"
   ]
  },
  {
   "cell_type": "code",
   "execution_count": 18,
   "metadata": {},
   "outputs": [],
   "source": [
    "from sklearn import metrics"
   ]
  },
  {
   "cell_type": "code",
   "execution_count": 19,
   "metadata": {},
   "outputs": [
    {
     "name": "stdout",
     "output_type": "stream",
     "text": [
      "Accuracy : 0.6211\n",
      "Precision: 0.2524\n",
      "Recall   : 0.1389\n",
      "F1-Score : 0.1646\n"
     ]
    }
   ],
   "source": [
    "print(\"Accuracy : {:.4f}\".format(metrics.accuracy_score(y_test, y_pred)))\n",
    "print(\"Precision: {:.4f}\".format(metrics.precision_score(y_test, y_pred, average='macro')))\n",
    "print(\"Recall   : {:.4f}\".format(metrics.recall_score(y_test, y_pred, average='macro')))\n",
    "print(\"F1-Score : {:.4f}\".format(metrics.f1_score(y_test, y_pred, average='macro')))"
   ]
  },
  {
   "cell_type": "code",
   "execution_count": 20,
   "metadata": {},
   "outputs": [
    {
     "name": "stdout",
     "output_type": "stream",
     "text": [
      "                 precision    recall  f1-score   support\n",
      "\n",
      "            acq       0.92      0.83      0.87       719\n",
      "           alum       0.00      0.00      0.00        23\n",
      "         barley       0.00      0.00      0.00        14\n",
      "            bop       0.62      0.33      0.43        30\n",
      "        carcass       0.00      0.00      0.00        18\n",
      "     castor-oil       0.00      0.00      0.00         1\n",
      "          cocoa       0.14      0.06      0.08        18\n",
      "        coconut       0.00      0.00      0.00         2\n",
      "    coconut-oil       0.00      0.00      0.00         3\n",
      "         coffee       0.50      0.14      0.22        28\n",
      "         copper       0.00      0.00      0.00        18\n",
      "     copra-cake       0.00      0.00      0.00         1\n",
      "           corn       0.38      0.05      0.09        56\n",
      "         cotton       0.00      0.00      0.00        20\n",
      "     cotton-oil       0.00      0.00      0.00         2\n",
      "            cpi       0.38      0.21      0.27        28\n",
      "            cpu       0.00      0.00      0.00         1\n",
      "          crude       0.67      0.73      0.70       189\n",
      "            dfl       0.00      0.00      0.00         1\n",
      "            dlr       0.58      0.59      0.58        44\n",
      "            dmk       0.00      0.00      0.00         4\n",
      "           earn       0.95      0.97      0.96      1087\n",
      "           fuel       0.38      0.30      0.33        10\n",
      "            gas       1.00      0.12      0.21        17\n",
      "            gnp       0.44      0.40      0.42        35\n",
      "           gold       0.67      0.13      0.22        30\n",
      "          grain       0.69      0.40      0.50       149\n",
      "      groundnut       0.00      0.00      0.00         4\n",
      "  groundnut-oil       0.00      0.00      0.00         1\n",
      "           heat       0.50      0.20      0.29         5\n",
      "            hog       0.67      0.33      0.44         6\n",
      "        housing       0.00      0.00      0.00         4\n",
      "         income       0.50      0.14      0.22         7\n",
      "    instal-debt       0.00      0.00      0.00         1\n",
      "       interest       0.72      0.64      0.68       131\n",
      "            ipi       0.67      0.50      0.57        12\n",
      "     iron-steel       0.00      0.00      0.00        14\n",
      "            jet       0.00      0.00      0.00         1\n",
      "           jobs       0.00      0.00      0.00        21\n",
      "       l-cattle       0.00      0.00      0.00         2\n",
      "           lead       0.00      0.00      0.00        14\n",
      "            lei       0.50      0.33      0.40         3\n",
      "        lin-oil       0.00      0.00      0.00         1\n",
      "      livestock       0.00      0.00      0.00        24\n",
      "         lumber       0.00      0.00      0.00         6\n",
      "      meal-feed       0.75      0.16      0.26        19\n",
      "       money-fx       0.68      0.54      0.60       179\n",
      "   money-supply       0.62      0.44      0.52        34\n",
      "        naphtha       0.00      0.00      0.00         4\n",
      "        nat-gas       0.14      0.03      0.05        30\n",
      "         nickel       0.00      0.00      0.00         1\n",
      "            nkr       0.00      0.00      0.00         2\n",
      "          nzdlr       0.00      0.00      0.00         2\n",
      "            oat       0.33      0.17      0.22         6\n",
      "        oilseed       0.00      0.00      0.00        47\n",
      "         orange       0.00      0.00      0.00        11\n",
      "      palladium       0.00      0.00      0.00         1\n",
      "       palm-oil       0.20      0.10      0.13        10\n",
      "     palmkernel       0.00      0.00      0.00         1\n",
      "       pet-chem       0.00      0.00      0.00        12\n",
      "       platinum       0.00      0.00      0.00         7\n",
      "         potato       0.00      0.00      0.00         3\n",
      "        propane       0.00      0.00      0.00         3\n",
      "           rand       0.00      0.00      0.00         1\n",
      "       rape-oil       0.00      0.00      0.00         3\n",
      "       rapeseed       0.50      0.11      0.18         9\n",
      "       reserves       0.87      0.72      0.79        18\n",
      "         retail       0.00      0.00      0.00         2\n",
      "           rice       0.00      0.00      0.00        24\n",
      "         rubber       0.50      0.08      0.14        12\n",
      "            rye       0.00      0.00      0.00         1\n",
      "           ship       0.67      0.04      0.08        89\n",
      "         silver       0.00      0.00      0.00         8\n",
      "        sorghum       0.17      0.10      0.12        10\n",
      "       soy-meal       0.11      0.08      0.09        13\n",
      "        soy-oil       0.67      0.18      0.29        11\n",
      "        soybean       0.00      0.00      0.00        33\n",
      "strategic-metal       0.20      0.09      0.13        11\n",
      "          sugar       0.17      0.03      0.05        36\n",
      "       sun-meal       0.00      0.00      0.00         1\n",
      "        sun-oil       0.00      0.00      0.00         2\n",
      "        sunseed       0.33      0.20      0.25         5\n",
      "            tea       0.20      0.25      0.22         4\n",
      "            tin       1.00      0.17      0.29        12\n",
      "          trade       0.68      0.66      0.67       117\n",
      "        veg-oil       0.61      0.46      0.52        37\n",
      "          wheat       0.47      0.10      0.16        71\n",
      "            wpi       0.75      0.30      0.43        10\n",
      "            yen       0.25      0.07      0.11        14\n",
      "           zinc       0.00      0.00      0.00        13\n",
      "\n",
      "    avg / total       0.70      0.61      0.63      3744\n",
      "\n"
     ]
    }
   ],
   "source": [
    "print(metrics.classification_report(y_true=y_test, y_pred=y_pred, target_names=mlb.classes_))"
   ]
  },
  {
   "cell_type": "markdown",
   "metadata": {},
   "source": [
    "### Pipeline"
   ]
  },
  {
   "cell_type": "code",
   "execution_count": 21,
   "metadata": {},
   "outputs": [
    {
     "name": "stdout",
     "output_type": "stream",
     "text": [
      "Example text: This example text should cover coconuts. Coconuts are available in plenty in Kerala\n",
      "Example labels: [()]\n"
     ]
    }
   ],
   "source": [
    "# Input sentence\n",
    "example_text = \"This example text should cover coconuts. Coconuts are available in plenty in Kerala\"\n",
    "\n",
    "# Tokenize\n",
    "example_tokens = nltk.word_tokenize(example_text)\n",
    "\n",
    "# Extract features\n",
    "example_features = [[1 if w in example_tokens else 0 for w in word_features]]\n",
    "\n",
    "# Do prediction\n",
    "example_preds = [clf.predict(example_features)[0] for clf in clfs.values()]\n",
    "\n",
    "# Convert predictions back to labels\n",
    "example_labels = mlb.inverse_transform(np.array([example_preds]))\n",
    "\n",
    "# Print labels\n",
    "print(\"Example text: {}\".format(example_text))\n",
    "print(\"Example labels: {}\".format(example_labels))"
   ]
  },
  {
   "cell_type": "code",
   "execution_count": null,
   "metadata": {},
   "outputs": [],
   "source": []
  },
  {
   "cell_type": "code",
   "execution_count": null,
   "metadata": {},
   "outputs": [],
   "source": []
  },
  {
   "cell_type": "code",
   "execution_count": null,
   "metadata": {},
   "outputs": [],
   "source": []
  },
  {
   "cell_type": "code",
   "execution_count": null,
   "metadata": {},
   "outputs": [],
   "source": []
  },
  {
   "cell_type": "code",
   "execution_count": null,
   "metadata": {},
   "outputs": [],
   "source": []
  }
 ],
 "metadata": {
  "kernelspec": {
   "display_name": "Python 3",
   "language": "python",
   "name": "python3"
  },
  "language_info": {
   "codemirror_mode": {
    "name": "ipython",
    "version": 3
   },
   "file_extension": ".py",
   "mimetype": "text/x-python",
   "name": "python",
   "nbconvert_exporter": "python",
   "pygments_lexer": "ipython3",
   "version": "3.6.4"
  }
 },
 "nbformat": 4,
 "nbformat_minor": 2
}
